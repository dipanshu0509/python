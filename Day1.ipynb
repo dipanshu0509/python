{
 "cells": [
  {
   "cell_type": "code",
   "execution_count": 1,
   "id": "bd00e146",
   "metadata": {},
   "outputs": [
    {
     "name": "stdout",
     "output_type": "stream",
     "text": [
      "Hello World\n"
     ]
    }
   ],
   "source": [
    "print(\"Hello World\")"
   ]
  },
  {
   "cell_type": "markdown",
   "id": "8f198c7d",
   "metadata": {},
   "source": [
    "### Print your name"
   ]
  },
  {
   "cell_type": "code",
   "execution_count": 8,
   "id": "e95b1fb0",
   "metadata": {},
   "outputs": [
    {
     "ename": "NameError",
     "evalue": "name 'Print' is not defined",
     "output_type": "error",
     "traceback": [
      "\u001b[1;31m---------------------------------------------------------------------------\u001b[0m",
      "\u001b[1;31mNameError\u001b[0m                                 Traceback (most recent call last)",
      "\u001b[1;32m~\\AppData\\Local\\Temp/ipykernel_17508/2742619729.py\u001b[0m in \u001b[0;36m<module>\u001b[1;34m\u001b[0m\n\u001b[1;32m----> 1\u001b[1;33m \u001b[0mPrint\u001b[0m\u001b[1;33m(\u001b[0m\u001b[1;34m\"Dipanshu R Kaleshwar\"\u001b[0m\u001b[1;33m)\u001b[0m\u001b[1;33m\u001b[0m\u001b[1;33m\u001b[0m\u001b[0m\n\u001b[0m",
      "\u001b[1;31mNameError\u001b[0m: name 'Print' is not defined"
     ]
    }
   ],
   "source": [
    "Print(\"Dipanshu R Kaleshwar\")"
   ]
  },
  {
   "cell_type": "markdown",
   "id": "94feb4d8",
   "metadata": {},
   "source": [
    "### It should be written as print not Print"
   ]
  },
  {
   "cell_type": "markdown",
   "id": "5d8003d0",
   "metadata": {},
   "source": [
    "#### It should be writen as print not print"
   ]
  },
  {
   "cell_type": "markdown",
   "id": "0c54c44e",
   "metadata": {},
   "source": [
    "###### It should be written as print not print"
   ]
  },
  {
   "cell_type": "markdown",
   "id": "eb5f5cb3",
   "metadata": {},
   "source": [
    "## It should be written as print not Print"
   ]
  },
  {
   "cell_type": "code",
   "execution_count": 10,
   "id": "81f1e663",
   "metadata": {},
   "outputs": [
    {
     "name": "stdout",
     "output_type": "stream",
     "text": [
      "Welcome to the Analytics Course\n"
     ]
    }
   ],
   "source": [
    "print(\"Welcome to the Analytics Course\")"
   ]
  },
  {
   "cell_type": "markdown",
   "id": "405b4e82",
   "metadata": {},
   "source": [
    "### Data Types"
   ]
  },
  {
   "cell_type": "code",
   "execution_count": 11,
   "id": "43f6563d",
   "metadata": {},
   "outputs": [
    {
     "name": "stdout",
     "output_type": "stream",
     "text": [
      "100\n"
     ]
    }
   ],
   "source": [
    "x=100\n",
    "print(x)"
   ]
  },
  {
   "cell_type": "code",
   "execution_count": 12,
   "id": "4a08c081",
   "metadata": {},
   "outputs": [
    {
     "data": {
      "text/plain": [
       "100"
      ]
     },
     "execution_count": 12,
     "metadata": {},
     "output_type": "execute_result"
    }
   ],
   "source": [
    "x=100\n",
    "x"
   ]
  },
  {
   "cell_type": "code",
   "execution_count": 13,
   "id": "6bd56b13",
   "metadata": {},
   "outputs": [
    {
     "data": {
      "text/plain": [
       "int"
      ]
     },
     "execution_count": 13,
     "metadata": {},
     "output_type": "execute_result"
    }
   ],
   "source": [
    "type (x)"
   ]
  },
  {
   "cell_type": "code",
   "execution_count": 14,
   "id": "ebf01a03",
   "metadata": {},
   "outputs": [
    {
     "data": {
      "text/plain": [
       "float"
      ]
     },
     "execution_count": 14,
     "metadata": {},
     "output_type": "execute_result"
    }
   ],
   "source": [
    "y=112.76\n",
    "type(y)"
   ]
  },
  {
   "cell_type": "code",
   "execution_count": 17,
   "id": "f8bbad45",
   "metadata": {},
   "outputs": [
    {
     "data": {
      "text/plain": [
       "str"
      ]
     },
     "execution_count": 17,
     "metadata": {},
     "output_type": "execute_result"
    }
   ],
   "source": [
    "course=\"Analytics\"\n",
    "type(course)"
   ]
  },
  {
   "cell_type": "code",
   "execution_count": 18,
   "id": "1cf41abf",
   "metadata": {},
   "outputs": [
    {
     "ename": "NameError",
     "evalue": "name 'Analytics' is not defined",
     "output_type": "error",
     "traceback": [
      "\u001b[1;31m---------------------------------------------------------------------------\u001b[0m",
      "\u001b[1;31mNameError\u001b[0m                                 Traceback (most recent call last)",
      "\u001b[1;32m~\\AppData\\Local\\Temp/ipykernel_17508/2669919848.py\u001b[0m in \u001b[0;36m<module>\u001b[1;34m\u001b[0m\n\u001b[1;32m----> 1\u001b[1;33m \u001b[0mcourse\u001b[0m\u001b[1;33m=\u001b[0m\u001b[0mAnalytics\u001b[0m\u001b[1;33m\u001b[0m\u001b[1;33m\u001b[0m\u001b[0m\n\u001b[0m\u001b[0;32m      2\u001b[0m \u001b[0mtype\u001b[0m\u001b[1;33m(\u001b[0m\u001b[0mcourse\u001b[0m\u001b[1;33m)\u001b[0m\u001b[1;33m\u001b[0m\u001b[1;33m\u001b[0m\u001b[0m\n",
      "\u001b[1;31mNameError\u001b[0m: name 'Analytics' is not defined"
     ]
    }
   ],
   "source": [
    "course=Analytics\n",
    "type(course)"
   ]
  },
  {
   "cell_type": "markdown",
   "id": "1c5276c7",
   "metadata": {},
   "source": [
    "### String should always be defined with single or double inverted comma"
   ]
  },
  {
   "cell_type": "code",
   "execution_count": 19,
   "id": "7e283211",
   "metadata": {},
   "outputs": [
    {
     "data": {
      "text/plain": [
       "bool"
      ]
     },
     "execution_count": 19,
     "metadata": {},
     "output_type": "execute_result"
    }
   ],
   "source": [
    "z=True\n",
    "type(z)"
   ]
  },
  {
   "cell_type": "code",
   "execution_count": 20,
   "id": "4d7b9908",
   "metadata": {},
   "outputs": [
    {
     "ename": "NameError",
     "evalue": "name 'Z' is not defined",
     "output_type": "error",
     "traceback": [
      "\u001b[1;31m---------------------------------------------------------------------------\u001b[0m",
      "\u001b[1;31mNameError\u001b[0m                                 Traceback (most recent call last)",
      "\u001b[1;32m~\\AppData\\Local\\Temp/ipykernel_17508/1203590383.py\u001b[0m in \u001b[0;36m<module>\u001b[1;34m\u001b[0m\n\u001b[0;32m      1\u001b[0m \u001b[0mz\u001b[0m\u001b[1;33m=\u001b[0m\u001b[1;32mFalse\u001b[0m\u001b[1;33m\u001b[0m\u001b[1;33m\u001b[0m\u001b[0m\n\u001b[1;32m----> 2\u001b[1;33m \u001b[0mtype\u001b[0m\u001b[1;33m(\u001b[0m\u001b[0mZ\u001b[0m\u001b[1;33m)\u001b[0m\u001b[1;33m\u001b[0m\u001b[1;33m\u001b[0m\u001b[0m\n\u001b[0m",
      "\u001b[1;31mNameError\u001b[0m: name 'Z' is not defined"
     ]
    }
   ],
   "source": [
    "z=False\n",
    "type(Z)"
   ]
  },
  {
   "cell_type": "code",
   "execution_count": 21,
   "id": "58d50f68",
   "metadata": {},
   "outputs": [
    {
     "data": {
      "text/plain": [
       "bool"
      ]
     },
     "execution_count": 21,
     "metadata": {},
     "output_type": "execute_result"
    }
   ],
   "source": [
    "z=False\n",
    "type(z)"
   ]
  },
  {
   "cell_type": "code",
   "execution_count": 22,
   "id": "4cf964e7",
   "metadata": {},
   "outputs": [
    {
     "data": {
      "text/plain": [
       "str"
      ]
     },
     "execution_count": 22,
     "metadata": {},
     "output_type": "execute_result"
    }
   ],
   "source": [
    "z=\"true\"\n",
    "type(z)"
   ]
  },
  {
   "cell_type": "markdown",
   "id": "121f8413",
   "metadata": {},
   "source": [
    "##### 1. No decimal point-Integer\n",
    "##### 2. Decimal Point -Float\n",
    "##### 3. Text-tring (it should be in inverted comma)\n",
    "##### 4. True/False-Bool"
   ]
  },
  {
   "cell_type": "markdown",
   "id": "2b9edc69",
   "metadata": {},
   "source": [
    "### Rules for naming the variables"
   ]
  },
  {
   "cell_type": "code",
   "execution_count": 23,
   "id": "044c7775",
   "metadata": {},
   "outputs": [
    {
     "data": {
      "text/plain": [
       "('Latha', 'Abhinav', 'Ayush', 'Bhavana')"
      ]
     },
     "execution_count": 23,
     "metadata": {},
     "output_type": "execute_result"
    }
   ],
   "source": [
    "name_list=(\"Latha\",\"Abhinav\",\"Ayush\",\"Bhavana\")\n",
    "name_list"
   ]
  },
  {
   "cell_type": "code",
   "execution_count": 24,
   "id": "4c056f08",
   "metadata": {},
   "outputs": [
    {
     "data": {
      "text/plain": [
       "('Latha', 'Abhinav', 'Ayush', 'Bhavana')"
      ]
     },
     "execution_count": 24,
     "metadata": {},
     "output_type": "execute_result"
    }
   ],
   "source": [
    "Name_list=(\"Latha\",\"Abhinav\",\"Ayush\",\"Bhavana\")\n",
    "Name_list"
   ]
  },
  {
   "cell_type": "code",
   "execution_count": 25,
   "id": "1fe6e3c1",
   "metadata": {},
   "outputs": [
    {
     "data": {
      "text/plain": [
       "('Latha', 'Abhinav', 'Ayush', 'Bhavana')"
      ]
     },
     "execution_count": 25,
     "metadata": {},
     "output_type": "execute_result"
    }
   ],
   "source": [
    "Namelist=(\"Latha\",\"Abhinav\",\"Ayush\",\"Bhavana\")\n",
    "Namelist"
   ]
  },
  {
   "cell_type": "code",
   "execution_count": 26,
   "id": "a1a325f9",
   "metadata": {},
   "outputs": [
    {
     "ename": "SyntaxError",
     "evalue": "invalid syntax (Temp/ipykernel_17508/715626873.py, line 1)",
     "output_type": "error",
     "traceback": [
      "\u001b[1;36m  File \u001b[1;32m\"C:\\Users\\hp\\AppData\\Local\\Temp/ipykernel_17508/715626873.py\"\u001b[1;36m, line \u001b[1;32m1\u001b[0m\n\u001b[1;33m    8name_list=(\"Latha\",\"Abhinav\",\"Ayush\",\"Bhavana\")\u001b[0m\n\u001b[1;37m     ^\u001b[0m\n\u001b[1;31mSyntaxError\u001b[0m\u001b[1;31m:\u001b[0m invalid syntax\n"
     ]
    }
   ],
   "source": [
    "8name_list=(\"Latha\",\"Abhinav\",\"Ayush\",\"Bhavana\")\n",
    "8name_list"
   ]
  },
  {
   "cell_type": "code",
   "execution_count": 27,
   "id": "5d4c0b98",
   "metadata": {},
   "outputs": [
    {
     "data": {
      "text/plain": [
       "('Latha', 'Abhinav', 'Ayush', 'Bhavana')"
      ]
     },
     "execution_count": 27,
     "metadata": {},
     "output_type": "execute_result"
    }
   ],
   "source": [
    "n4ame_list=(\"Latha\",\"Abhinav\",\"Ayush\",\"Bhavana\")\n",
    "n4ame_list"
   ]
  },
  {
   "cell_type": "code",
   "execution_count": 28,
   "id": "558b81ca",
   "metadata": {},
   "outputs": [
    {
     "ename": "SyntaxError",
     "evalue": "cannot assign to operator (Temp/ipykernel_17508/3707176059.py, line 1)",
     "output_type": "error",
     "traceback": [
      "\u001b[1;36m  File \u001b[1;32m\"C:\\Users\\hp\\AppData\\Local\\Temp/ipykernel_17508/3707176059.py\"\u001b[1;36m, line \u001b[1;32m1\u001b[0m\n\u001b[1;33m    name-list=(\"Latha\",\"Abhinav\",\"Ayush\",\"Bhavana\")\u001b[0m\n\u001b[1;37m    ^\u001b[0m\n\u001b[1;31mSyntaxError\u001b[0m\u001b[1;31m:\u001b[0m cannot assign to operator\n"
     ]
    }
   ],
   "source": [
    "name-list=(\"Latha\",\"Abhinav\",\"Ayush\",\"Bhavana\")\n",
    "name-list"
   ]
  },
  {
   "cell_type": "code",
   "execution_count": 29,
   "id": "2c59197e",
   "metadata": {},
   "outputs": [
    {
     "ename": "NameError",
     "evalue": "name 'NAME_list' is not defined",
     "output_type": "error",
     "traceback": [
      "\u001b[1;31m---------------------------------------------------------------------------\u001b[0m",
      "\u001b[1;31mNameError\u001b[0m                                 Traceback (most recent call last)",
      "\u001b[1;32m~\\AppData\\Local\\Temp/ipykernel_17508/1674010719.py\u001b[0m in \u001b[0;36m<module>\u001b[1;34m\u001b[0m\n\u001b[0;32m      1\u001b[0m \u001b[0mname_list\u001b[0m\u001b[1;33m=\u001b[0m\u001b[1;33m(\u001b[0m\u001b[1;34m\"Latha\"\u001b[0m\u001b[1;33m,\u001b[0m\u001b[1;34m\"Abhinav\"\u001b[0m\u001b[1;33m,\u001b[0m\u001b[1;34m\"Ayush\"\u001b[0m\u001b[1;33m,\u001b[0m\u001b[1;34m\"Bhavana\"\u001b[0m\u001b[1;33m)\u001b[0m\u001b[1;33m\u001b[0m\u001b[1;33m\u001b[0m\u001b[0m\n\u001b[1;32m----> 2\u001b[1;33m \u001b[0mNAME_list\u001b[0m\u001b[1;33m\u001b[0m\u001b[1;33m\u001b[0m\u001b[0m\n\u001b[0m",
      "\u001b[1;31mNameError\u001b[0m: name 'NAME_list' is not defined"
     ]
    }
   ],
   "source": [
    "name_list=(\"Latha\",\"Abhinav\",\"Ayush\",\"Bhavana\")\n",
    "NAME_list"
   ]
  },
  {
   "cell_type": "markdown",
   "id": "91d91062",
   "metadata": {},
   "source": [
    "##### 1. Variable name should start with A-Z,a-z, or underscore(_)\n",
    "##### 2. Variable name should not start with a number\n",
    "##### 3. Space is not allowed\n",
    "##### 4. Only  allowed spl char is underscore\n",
    "##### 5. Case secsitive"
   ]
  },
  {
   "cell_type": "markdown",
   "id": "0a6e9279",
   "metadata": {},
   "source": [
    "#### Data Structure\n",
    "\n"
   ]
  },
  {
   "cell_type": "code",
   "execution_count": null,
   "id": "d72f9659",
   "metadata": {},
   "outputs": [],
   "source": []
  }
 ],
 "metadata": {
  "kernelspec": {
   "display_name": "Python 3 (ipykernel)",
   "language": "python",
   "name": "python3"
  },
  "language_info": {
   "codemirror_mode": {
    "name": "ipython",
    "version": 3
   },
   "file_extension": ".py",
   "mimetype": "text/x-python",
   "name": "python",
   "nbconvert_exporter": "python",
   "pygments_lexer": "ipython3",
   "version": "3.9.7"
  }
 },
 "nbformat": 4,
 "nbformat_minor": 5
}
